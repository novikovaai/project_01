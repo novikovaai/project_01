{
  "nbformat": 4,
  "nbformat_minor": 0,
  "metadata": {
    "colab": {
      "provenance": [],
      "authorship_tag": "ABX9TyMd4F9pPzkZtvUCM/5gPM5N",
      "include_colab_link": true
    },
    "kernelspec": {
      "name": "python3",
      "display_name": "Python 3"
    },
    "language_info": {
      "name": "python"
    }
  },
  "cells": [
    {
      "cell_type": "markdown",
      "metadata": {
        "id": "view-in-github",
        "colab_type": "text"
      },
      "source": [
        "<a href=\"https://colab.research.google.com/github/novikovaai/project_01/blob/main/lvl_2/complete_task_2_1.ipynb\" target=\"_parent\"><img src=\"https://colab.research.google.com/assets/colab-badge.svg\" alt=\"Open In Colab\"/></a>"
      ]
    },
    {
      "cell_type": "code",
      "execution_count": 3,
      "metadata": {
        "id": "5DoXuLDMnDpA"
      },
      "outputs": [],
      "source": [
        "# Задача 2.1.\n",
        "\n",
        "# Создайте две функции maximum и minimum,\n",
        "# которые получают список целых чисел в качестве входных данных\n",
        "# и возвращают наибольшее и наименьшее число в этом списке соответственно.\n",
        "# Например,\n",
        "# * [4,6,2,1,9,63,-134,566]         -> max = 566, min = -134\n",
        "# * [-52, 56, 30, 29, -54, 0, -110] -> min = -110, max = 56\n",
        "# * [42, 54, 65, 87, 0]             -> min = 0, max = 87\n",
        "# * [5]                             -> min = 5, max = 5\n",
        "# функции sorted, max и min использовать нельзя!\n",
        "\n",
        "def minimum(arr):\n",
        "    pass\n",
        "\n",
        "def maximum(arr):\n",
        "    pass"
      ]
    },
    {
      "cell_type": "code",
      "source": [
        "# Функция на наименьшее число в списке\n",
        "def minimum(arr):\n",
        "    check = arr[0]\n",
        "    for i in arr:\n",
        "      if i < check:\n",
        "        check = i\n",
        "    return check"
      ],
      "metadata": {
        "id": "whgB4zLmnL8V"
      },
      "execution_count": 4,
      "outputs": []
    },
    {
      "cell_type": "code",
      "source": [
        "# Функция на наибольшее число в списке\n",
        "def maximum(arr):\n",
        "    check = arr[0]\n",
        "    for i in arr:\n",
        "      if i > check:\n",
        "        check = i\n",
        "    return check"
      ],
      "metadata": {
        "id": "NRsQW83Un3mw"
      },
      "execution_count": 5,
      "outputs": []
    },
    {
      "cell_type": "code",
      "source": [
        "# Проверка работы\n",
        "l1 = [4,6,2,1,9,63,-134,566]\n",
        "l2 = [-52, 56, 30, 29, -54, 0, -110]\n",
        "l3 = [42, 54, 65, 87, 0]\n",
        "l4 = [5]\n",
        "print(f'min = {minimum(l1)}, max = {maximum(l1)}')\n",
        "print(f'min = {minimum(l2)}, max = {maximum(l2)}')\n",
        "print(f'min = {minimum(l3)}, max = {maximum(l3)}')\n",
        "print(f'min = {minimum(l4)}, max = {maximum(l4)}')"
      ],
      "metadata": {
        "colab": {
          "base_uri": "https://localhost:8080/"
        },
        "id": "-aO4y-7Fn8_p",
        "outputId": "ba9f80e9-7f37-4f5e-89a2-86a3c1340e3f"
      },
      "execution_count": 6,
      "outputs": [
        {
          "output_type": "stream",
          "name": "stdout",
          "text": [
            "min = -134, max = 566\n",
            "min = -110, max = 56\n",
            "min = 0, max = 87\n",
            "min = 5, max = 5\n"
          ]
        }
      ]
    }
  ]
}