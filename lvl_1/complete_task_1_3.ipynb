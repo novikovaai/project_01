{
  "nbformat": 4,
  "nbformat_minor": 0,
  "metadata": {
    "colab": {
      "provenance": [],
      "authorship_tag": "ABX9TyMiM3acvZnWuiizmf09YPX6",
      "include_colab_link": true
    },
    "kernelspec": {
      "name": "python3",
      "display_name": "Python 3"
    },
    "language_info": {
      "name": "python"
    }
  },
  "cells": [
    {
      "cell_type": "markdown",
      "metadata": {
        "id": "view-in-github",
        "colab_type": "text"
      },
      "source": [
        "<a href=\"https://colab.research.google.com/github/novikovaai/project_01/blob/main/lvl_1/complete_task_1_3.ipynb\" target=\"_parent\"><img src=\"https://colab.research.google.com/assets/colab-badge.svg\" alt=\"Open In Colab\"/></a>"
      ]
    },
    {
      "cell_type": "code",
      "execution_count": null,
      "metadata": {
        "id": "nhAIJ7LS7Utu"
      },
      "outputs": [],
      "source": [
        "# Задача 1.3.\n",
        "\n",
        "# Напишите скрипт, который принимает от пользователя номер месяца,\n",
        "# а возвращает количество дней в нем.\n",
        "# Результат проверки вывести на консоль\n",
        "# Допущение: в феврале 28 дней\n",
        "# Если номер месяца некорректен - сообщить об этом\n",
        "\n",
        "# Например,\n",
        "    # Введите номер месяца: 3\n",
        "    # Вы ввели март. 31 дней\n",
        "\n",
        "    # Введите номер месяца: 2\n",
        "    # Вы ввели февраль. 28 дней\n",
        "\n",
        "    # Введите номер месяца: 15\n",
        "    # Такого месяца нет!"
      ]
    },
    {
      "cell_type": "code",
      "source": [
        "nomer = int(input('Введите номер месяца: '))\n",
        "mes = {1:['январь', 31], 2:['февраль', 28], 3:['март', 31], 4:['апрель', 30], 5:['май', 31], 6:['июнь', 30], 7:['июль', 31], 8:['август', 31], 9:['сентябрь', 30], 10:['октябрь', 31], 11:['ноябрь', 30], 12:['декабрь', 31]}\n",
        "if 1 <= nomer <= 12:\n",
        "    print(f'Вы ввели {mes[nomer][0]}. {mes[nomer][1]}', 'дней' if nomer in [2, 4, 6, 9] else 'день')\n",
        "else:\n",
        "    print('Такого месяца нет!')"
      ],
      "metadata": {
        "colab": {
          "base_uri": "https://localhost:8080/"
        },
        "id": "3fsQ5Dh68avt",
        "outputId": "ebfbfd52-9203-4333-ee03-cfad1be1a4f1"
      },
      "execution_count": 7,
      "outputs": [
        {
          "output_type": "stream",
          "name": "stdout",
          "text": [
            "Введите номер месяца: 3\n",
            "Вы ввели март. 31 день\n"
          ]
        }
      ]
    }
  ]
}