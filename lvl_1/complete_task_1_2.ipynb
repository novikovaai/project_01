{
  "nbformat": 4,
  "nbformat_minor": 0,
  "metadata": {
    "colab": {
      "provenance": [],
      "authorship_tag": "ABX9TyO1msOFRGp8hW/l0+uw+I7A",
      "include_colab_link": true
    },
    "kernelspec": {
      "name": "python3",
      "display_name": "Python 3"
    },
    "language_info": {
      "name": "python"
    }
  },
  "cells": [
    {
      "cell_type": "markdown",
      "metadata": {
        "id": "view-in-github",
        "colab_type": "text"
      },
      "source": [
        "<a href=\"https://colab.research.google.com/github/novikovaai/project_01/blob/main/lvl_1/complete_task_1_2.ipynb\" target=\"_parent\"><img src=\"https://colab.research.google.com/assets/colab-badge.svg\" alt=\"Open In Colab\"/></a>"
      ]
    },
    {
      "cell_type": "code",
      "execution_count": 18,
      "metadata": {
        "id": "R9vJNJTMSQaE"
      },
      "outputs": [],
      "source": [
        "# Задача 1.2.\n",
        "\n",
        "# Пункт A.\n",
        "# Приведем плейлист песен в виде списка списков\n",
        "# Список my_favorite_songs содержит список названий и длительности каждого трека\n",
        "# Выведите общее время звучания трех случайных песен в формате\n",
        "# Три песни звучат ХХХ минут\n",
        "\n",
        "my_favorite_songs = [\n",
        "    ['Waste a Moment', 3.03],\n",
        "    ['New Salvation', 4.02],\n",
        "    ['Staying\\' Alive', 3.40],\n",
        "    ['Out of Touch', 3.03],\n",
        "    ['A Sorta Fairytale', 5.28],\n",
        "    ['Easy', 4.15],\n",
        "    ['Beautiful Day', 4.04],\n",
        "    ['Nowhere to Run', 2.58],\n",
        "    ['In This World', 4.02],\n",
        "]\n",
        "\n",
        "# Пункт B.\n",
        "# Есть словарь песен\n",
        "# Распечатайте общее время звучания трех случайных песен\n",
        "# Вывод: Три песни звучат ХХХ минут.\n",
        "\n",
        "my_favorite_songs_dict = {\n",
        "    'Waste a Moment': 3.03,\n",
        "    'New Salvation': 4.02,\n",
        "    'Staying\\' Alive': 3.40,\n",
        "    'Out of Touch': 3.03,\n",
        "    'A Sorta Fairytale': 5.28,\n",
        "    'Easy': 4.15,\n",
        "    'Beautiful Day': 4.04,\n",
        "    'Nowhere to Run': 2.58,\n",
        "    'In This World': 4.02,\n",
        "}\n",
        "\n",
        "# Дополнительно для пунктов A и B\n",
        "# Пункт C.\n",
        "# Сгенерируйте случайные песни с помощью модуля random\n",
        "# import random\n",
        "\n",
        "# Дополнительно\n",
        "# Пункт D.\n",
        "# Переведите минуты и секунды в формат времени. Используйте модуль datetime"
      ]
    },
    {
      "cell_type": "code",
      "source": [
        "#Пункт А\n",
        "#Список времени звучания трех случайных песен из списка my_favorite_songs\n",
        "three_songs = [my_favorite_songs[1][1], my_favorite_songs[3][1], my_favorite_songs[5][1]]\n",
        "#Перевод времени звучания песен из списка в секунды\n",
        "three_songs_sec = sum([(int(time) * 60 + round(time * 100) % 100) for time in three_songs])\n",
        "#Вывод общего времени звучания трех песен в минутах\n",
        "print(f'Три песни звучат {three_songs_sec // 60}.{three_songs_sec % 60} минут.')"
      ],
      "metadata": {
        "colab": {
          "base_uri": "https://localhost:8080/"
        },
        "id": "icjqNfSLDGbj",
        "outputId": "19a3cb29-ca42-4ef7-b124-233128cc89bb"
      },
      "execution_count": 19,
      "outputs": [
        {
          "output_type": "stream",
          "name": "stdout",
          "text": [
            "Три песни звучат 11.20 минут.\n"
          ]
        }
      ]
    },
    {
      "cell_type": "code",
      "source": [
        "#Пункт B\n",
        "#Список времени звучания трех случайных песен из словаря my_favorite_songs_dict\n",
        "three_songs_dict = [my_favorite_songs_dict['Staying\\' Alive'], my_favorite_songs_dict['Easy'], my_favorite_songs_dict['Nowhere to Run']]\n",
        "#Перевод времени звучания песен из списка в секунды\n",
        "three_songs_dict_sec= sum([(int(time) * 60 + round(time * 100) % 100) for time in three_songs_dict])\n",
        "#Вывод общего времени звучания трех песен в минутах\n",
        "print(f'Три песни звучат {three_songs_dict_sec // 60}.{three_songs_dict_sec % 60} минут.')"
      ],
      "metadata": {
        "colab": {
          "base_uri": "https://localhost:8080/"
        },
        "id": "Vr-5wXMue_OP",
        "outputId": "5600c586-b443-495c-b178-1d993687e0bc"
      },
      "execution_count": 20,
      "outputs": [
        {
          "output_type": "stream",
          "name": "stdout",
          "text": [
            "Три песни звучат 10.53 минут.\n"
          ]
        }
      ]
    },
    {
      "cell_type": "code",
      "source": [
        "#Пункт C\n",
        "#импорт модуля random\n",
        "import random\n",
        "#Время звучания трех случайных песен из списка в виде списка\n",
        "random_songs = [my_favorite_songs[random.randint(0, len(my_favorite_songs)-1)][1] for _ in range(3)]\n",
        "#Три случайные песни из словаря в виде словаря\n",
        "random_songs_dict = random.sample(sorted(my_favorite_songs_dict.values()), 3)\n",
        "#Перевод времени звучания песен из списка в секунды\n",
        "random_songs_sec = sum([(int(time) * 60 + round(time * 100) % 100) for time in random_songs])\n",
        "#Вывод общего времени звучания трех случайных песен в минутах\n",
        "print(f'Три случайных песни из списка звучат {random_songs_sec // 60}.{random_songs_sec % 60} минут.')\n",
        "#Перевод времени звучания песен из списка в секунды\n",
        "random_songs_dict_sec = sum([(int(time) * 60 + round(time * 100) % 100) for time in random_songs_dict])\n",
        "#Вывод общего времени звучания трех песен в минутах\n",
        "print(f'Три случайных песни из словаря звучат {random_songs_dict_sec // 60}.{random_songs_dict_sec % 60} минут.')"
      ],
      "metadata": {
        "colab": {
          "base_uri": "https://localhost:8080/"
        },
        "id": "RFR-ed7jfmAD",
        "outputId": "8bf15502-ec9a-4dbb-b7a1-71c5b838df55"
      },
      "execution_count": 22,
      "outputs": [
        {
          "output_type": "stream",
          "name": "stdout",
          "text": [
            "Три случайных песни из списка звучат 11.11 минут.\n",
            "Три случайных песни из словаря звучат 11.34 минут.\n"
          ]
        }
      ]
    },
    {
      "cell_type": "code",
      "source": [
        "#Пункт D\n",
        "#Список\n",
        "#импорт модуля datetime\n",
        "#импорт модуля copy\n",
        "import datetime\n",
        "import copy\n",
        "#Перевод длительности песен из списка в формат времени построчно\n",
        "my_favorite_songs_copy = copy.deepcopy(my_favorite_songs)\n",
        "for song in my_favorite_songs_copy:\n",
        "  temp = datetime.datetime.strptime(str(song[1]), '%M.%S')\n",
        "  song[1] = f'{temp.time()}'\n",
        "#Вывод списка построчно\n",
        "for song in my_favorite_songs_copy:\n",
        "  print(*song, sep =', ')"
      ],
      "metadata": {
        "colab": {
          "base_uri": "https://localhost:8080/"
        },
        "id": "CKh-u-f7h1rD",
        "outputId": "d75a71dd-ba2b-416e-bba2-bb99c488f3bf"
      },
      "execution_count": 23,
      "outputs": [
        {
          "output_type": "stream",
          "name": "stdout",
          "text": [
            "Waste a Moment, 00:03:03\n",
            "New Salvation, 00:04:02\n",
            "Staying' Alive, 00:03:04\n",
            "Out of Touch, 00:03:03\n",
            "A Sorta Fairytale, 00:05:28\n",
            "Easy, 00:04:15\n",
            "Beautiful Day, 00:04:04\n",
            "Nowhere to Run, 00:02:58\n",
            "In This World, 00:04:02\n"
          ]
        }
      ]
    },
    {
      "cell_type": "code",
      "source": [
        "#Пункт D\n",
        "#Словарь\n",
        "#Перевод длительности песен из словаря в формат времени построчно\n",
        "my_favorite_songs_dict_copy = copy.deepcopy(my_favorite_songs_dict)\n",
        "for song in my_favorite_songs_dict_copy.keys():\n",
        "  temp = datetime.datetime.strptime(str(my_favorite_songs_dict_copy[song]), '%M.%S')\n",
        "  my_favorite_songs_dict_copy[song] = f'{temp.time()}'\n",
        "#Вывод словаря построчно\n",
        "for song, duration in my_favorite_songs_dict_copy.items():\n",
        "  print(song, '-', duration)"
      ],
      "metadata": {
        "colab": {
          "base_uri": "https://localhost:8080/"
        },
        "id": "3AdszpGZiu5u",
        "outputId": "75f87b68-d942-4215-d4c0-1c59c5ae38d4"
      },
      "execution_count": 24,
      "outputs": [
        {
          "output_type": "stream",
          "name": "stdout",
          "text": [
            "Waste a Moment - 00:03:03\n",
            "New Salvation - 00:04:02\n",
            "Staying' Alive - 00:03:04\n",
            "Out of Touch - 00:03:03\n",
            "A Sorta Fairytale - 00:05:28\n",
            "Easy - 00:04:15\n",
            "Beautiful Day - 00:04:04\n",
            "Nowhere to Run - 00:02:58\n",
            "In This World - 00:04:02\n"
          ]
        }
      ]
    }
  ]
}