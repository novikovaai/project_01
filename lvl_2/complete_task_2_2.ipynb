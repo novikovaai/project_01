{
  "nbformat": 4,
  "nbformat_minor": 0,
  "metadata": {
    "colab": {
      "provenance": [],
      "authorship_tag": "ABX9TyMCzONWyV1jkZIjqn7v5F4W",
      "include_colab_link": true
    },
    "kernelspec": {
      "name": "python3",
      "display_name": "Python 3"
    },
    "language_info": {
      "name": "python"
    }
  },
  "cells": [
    {
      "cell_type": "markdown",
      "metadata": {
        "id": "view-in-github",
        "colab_type": "text"
      },
      "source": [
        "<a href=\"https://colab.research.google.com/github/novikovaai/project_01/blob/main/lvl_2/complete_task_2_2.ipynb\" target=\"_parent\"><img src=\"https://colab.research.google.com/assets/colab-badge.svg\" alt=\"Open In Colab\"/></a>"
      ]
    },
    {
      "cell_type": "code",
      "execution_count": null,
      "metadata": {
        "id": "rSzDlzS5p9w5"
      },
      "outputs": [],
      "source": [
        "# Задача 2.2.\n",
        "\n",
        "# Напишите функцию, которая возвращает номер квартал по номеру месяца\n",
        "# Например:\n",
        "# месяц 2 (февраль) является частью первого квартала;\n",
        "# месяц 6 (июнь) является частью второго квартала;\n",
        "# месяц 11 (ноябрь) является частью четвертого квартала.\n",
        "\n",
        "def quarter_of(month):\n",
        "    pass"
      ]
    },
    {
      "cell_type": "code",
      "source": [
        "# Функция, возвращающая номер квартала по номеру месяца\n",
        "def quarter_of(month):\n",
        "    if 0 < month < 4:\n",
        "      return 1, 'первого'\n",
        "    elif 3 < month < 7:\n",
        "      return 2, 'второго'\n",
        "    elif 6 < month < 10:\n",
        "      return 3, 'третьего'\n",
        "    elif 9 < month < 13:\n",
        "      return 4, 'четвертого'"
      ],
      "metadata": {
        "id": "dnPHl5XcttdA"
      },
      "execution_count": 3,
      "outputs": []
    },
    {
      "cell_type": "code",
      "source": [
        "# Пример кода, проверка\n",
        "mes = {1:'январь',\n",
        "       2:'февраль',\n",
        "       3:'март',\n",
        "       4:'апрель',\n",
        "       5:'май',\n",
        "       6:'июнь',\n",
        "       7:'июль',\n",
        "       8:'август',\n",
        "       9:'сентябрь',\n",
        "       10:'октябрь',\n",
        "       11:'ноябрь',\n",
        "       12:'декабрь'}\n",
        "\n",
        "month = int(input())\n",
        "print(f'месяц {month} ({mes[month]}) является частью {quarter_of(month)[1]} квартала')"
      ],
      "metadata": {
        "colab": {
          "base_uri": "https://localhost:8080/"
        },
        "id": "scCzPcfIrZ3V",
        "outputId": "3349d3a0-5951-49d3-89e1-800d2049a919"
      },
      "execution_count": 6,
      "outputs": [
        {
          "output_type": "stream",
          "name": "stdout",
          "text": [
            "4\n",
            "месяц 4 (апрель) является частью второго квартала\n"
          ]
        }
      ]
    }
  ]
}