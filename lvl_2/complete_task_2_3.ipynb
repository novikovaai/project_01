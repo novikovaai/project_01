{
  "nbformat": 4,
  "nbformat_minor": 0,
  "metadata": {
    "colab": {
      "provenance": [],
      "authorship_tag": "ABX9TyNJ72XW/vQDYPikXnelbGxd",
      "include_colab_link": true
    },
    "kernelspec": {
      "name": "python3",
      "display_name": "Python 3"
    },
    "language_info": {
      "name": "python"
    }
  },
  "cells": [
    {
      "cell_type": "markdown",
      "metadata": {
        "id": "view-in-github",
        "colab_type": "text"
      },
      "source": [
        "<a href=\"https://colab.research.google.com/github/novikovaai/project_01/blob/main/lvl_2/complete_task_2_3.ipynb\" target=\"_parent\"><img src=\"https://colab.research.google.com/assets/colab-badge.svg\" alt=\"Open In Colab\"/></a>"
      ]
    },
    {
      "cell_type": "code",
      "execution_count": null,
      "metadata": {
        "id": "LQ7bGXzZEEFK"
      },
      "outputs": [],
      "source": [
        "# Задача 2.3.\n",
        "\n",
        "# Напишите функцию, которая принимает цифры от 0 до 9 и возвращает значение прописью.\n",
        "# Например,\n",
        "# switch_it_up(1) -> 'One'\n",
        "# switch_it_up(3) -> 'Three'\n",
        "# switch_it_up(10000) -> None\n",
        "# Использовать условный оператор if-elif-else нельзя!\n",
        "\n",
        "def switch_it_up(number):\n",
        "    pass"
      ]
    },
    {
      "cell_type": "code",
      "source": [
        "#Определение функции\n",
        "def switch_it_up(number):\n",
        "    sl = {0:'Zero', 1:'One', 2:'Two', 3:'Three', 4:'Four', 5:'Five', 6:'Six', 7:'Seven', 8:'Eight', 9:'Nine'}\n",
        "    return sl.get(number)"
      ],
      "metadata": {
        "id": "t5cI9lg0EItF"
      },
      "execution_count": 9,
      "outputs": []
    },
    {
      "cell_type": "code",
      "source": [
        "#Проверка работы функции\n",
        "num = int(input('Введите цифру '))\n",
        "print(switch_it_up(num))"
      ],
      "metadata": {
        "colab": {
          "base_uri": "https://localhost:8080/"
        },
        "id": "8_xCUigCE3Zh",
        "outputId": "6c8a0226-0087-4e5c-a5b8-6e05b3200400"
      },
      "execution_count": 11,
      "outputs": [
        {
          "output_type": "stream",
          "name": "stdout",
          "text": [
            "Введите цифру 6\n",
            "Six\n"
          ]
        }
      ]
    }
  ]
}