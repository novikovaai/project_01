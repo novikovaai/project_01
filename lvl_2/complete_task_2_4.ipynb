{
  "nbformat": 4,
  "nbformat_minor": 0,
  "metadata": {
    "colab": {
      "provenance": [],
      "authorship_tag": "ABX9TyOmQWlON1r3LmgfrGSkdS0n",
      "include_colab_link": true
    },
    "kernelspec": {
      "name": "python3",
      "display_name": "Python 3"
    },
    "language_info": {
      "name": "python"
    }
  },
  "cells": [
    {
      "cell_type": "markdown",
      "metadata": {
        "id": "view-in-github",
        "colab_type": "text"
      },
      "source": [
        "<a href=\"https://colab.research.google.com/github/novikovaai/project_01/blob/main/lvl_2/complete_task_2_4.ipynb\" target=\"_parent\"><img src=\"https://colab.research.google.com/assets/colab-badge.svg\" alt=\"Open In Colab\"/></a>"
      ]
    },
    {
      "cell_type": "code",
      "execution_count": null,
      "metadata": {
        "id": "YuXJCAb4GA0I"
      },
      "outputs": [],
      "source": [
        "# Задача 2.4.\n",
        "\n",
        "# Пункт A.\n",
        "# Напишите функцию, которая удаляет все восклицательные знаки из заданной строк.\n",
        "# Например,\n",
        "# foo(\"Hi! Hello!\") -> \"Hi Hello\"\n",
        "# foo(\"\") -> \"\"\n",
        "# foo(\"Oh, no!!!\") -> \"Oh, no\"\n",
        "\n",
        "def remove_exclamation_marks(s):\n",
        "    pass\n",
        "\n",
        "\n",
        "# Пункт B.\n",
        "# Удалите восклицательный знак из конца строки.\n",
        "# remove(\"Hi!\") == \"Hi\"\n",
        "# remove(\"Hi!!!\") == \"Hi!!\"\n",
        "# remove(\"!Hi\") == \"!Hi\"\n",
        "\n",
        "def remove_last_em(s):\n",
        "    pass\n",
        "\n",
        "\n",
        "# Дополнительно\n",
        "\n",
        "# Пункт С.\n",
        "# Удалите слова из предложения, если они содержат ровно один восклицательный знак.\n",
        "# Слова разделены одним пробелом.\n",
        "# Например,\n",
        "# remove(\"Hi!\") === \"\"\n",
        "# remove(\"Hi! Hi!\") === \"\"\n",
        "# remove(\"Hi! Hi! Hi!\") === \"\"\n",
        "# remove(\"Hi Hi! Hi!\") === \"Hi\"\n",
        "# remove(\"Hi! !Hi Hi!\") === \"\"\n",
        "# remove(\"Hi! Hi!! Hi!\") === \"Hi!!\"\n",
        "# remove(\"Hi! !Hi! Hi!\") === \"!Hi!\"\n",
        "\n",
        "def remove_word_with_one_em(s):\n",
        "    pass"
      ]
    },
    {
      "cell_type": "code",
      "source": [
        "# Пункт A\n",
        "# Объявление функции\n",
        "def remove_exclamation_marks(s):\n",
        "    s = s.replace('!', '')\n",
        "    return s"
      ],
      "metadata": {
        "id": "-_31VYLNGLn3"
      },
      "execution_count": 3,
      "outputs": []
    },
    {
      "cell_type": "code",
      "source": [
        "# Пункт A\n",
        "# Проверка работы функции\n",
        "s = \"Hi! Hello!\"\n",
        "s1 = \"\"\n",
        "s2 = \"Oh, no!!!\"\n",
        "print(remove_exclamation_marks(s))\n",
        "print(remove_exclamation_marks(s1))\n",
        "print(remove_exclamation_marks(s2))"
      ],
      "metadata": {
        "colab": {
          "base_uri": "https://localhost:8080/"
        },
        "id": "mqkuKtReGN5p",
        "outputId": "027d5547-71d4-479a-a836-a334e7c026af"
      },
      "execution_count": 4,
      "outputs": [
        {
          "output_type": "stream",
          "name": "stdout",
          "text": [
            "Hi Hello\n",
            "\n",
            "Oh, no\n"
          ]
        }
      ]
    },
    {
      "cell_type": "code",
      "source": [
        "# Пункт B.\n",
        "# Объявление функции\n",
        "def remove_last_em(s):\n",
        "    return s[:-1] if s.endswith('!') else s"
      ],
      "metadata": {
        "id": "Oq01ARw-G0Lp"
      },
      "execution_count": 11,
      "outputs": []
    },
    {
      "cell_type": "code",
      "source": [
        "# Пункт B\n",
        "# Проверка работы функции\n",
        "s = \"Hi!\"\n",
        "s1 = \"Hi!!!\"\n",
        "s2 = \"!Hi\"\n",
        "print(remove_last_em(s))\n",
        "print(remove_last_em(s1))\n",
        "print(remove_last_em(s2))"
      ],
      "metadata": {
        "colab": {
          "base_uri": "https://localhost:8080/"
        },
        "id": "zL6TwJDXG_dV",
        "outputId": "7089db9f-d5c4-4ca8-eea7-744db2f180b3"
      },
      "execution_count": 12,
      "outputs": [
        {
          "output_type": "stream",
          "name": "stdout",
          "text": [
            "Hi\n",
            "Hi!!\n",
            "!Hi\n"
          ]
        }
      ]
    },
    {
      "cell_type": "code",
      "source": [
        "# Пункт C.\n",
        "# Объявление функции\n",
        "def remove_word_with_one_em(s):\n",
        "    l = s.split()\n",
        "    l2 = [i for i in l if i.count('!') != 1]\n",
        "    return ' '.join(l2)"
      ],
      "metadata": {
        "id": "27jYawNvIDb3"
      },
      "execution_count": 15,
      "outputs": []
    },
    {
      "cell_type": "code",
      "source": [
        "# Пункт C.\n",
        "# Проверка работы функции\n",
        "s = \"Hi!\"\n",
        "s1 = \"Hi! Hi!\"\n",
        "s2 = \"Hi! Hi! Hi!\"\n",
        "s3 = \"Hi Hi! Hi!\"\n",
        "s4 = \"Hi! !Hi Hi!\"\n",
        "s5 = \"Hi! Hi!! Hi!\"\n",
        "s6 = \"Hi! !Hi! Hi!\"\n",
        "print(remove_word_with_one_em(s))\n",
        "print(remove_word_with_one_em(s1))\n",
        "print(remove_word_with_one_em(s2))\n",
        "print(remove_word_with_one_em(s3))\n",
        "print(remove_word_with_one_em(s4))\n",
        "print(remove_word_with_one_em(s5))\n",
        "print(remove_word_with_one_em(s6))"
      ],
      "metadata": {
        "colab": {
          "base_uri": "https://localhost:8080/"
        },
        "id": "pavK0_MNJS7J",
        "outputId": "3eee2da6-43ad-4810-c647-4e99f4ecb56b"
      },
      "execution_count": 17,
      "outputs": [
        {
          "output_type": "stream",
          "name": "stdout",
          "text": [
            "\n",
            "\n",
            "\n",
            "Hi\n",
            "\n",
            "Hi!!\n",
            "!Hi!\n"
          ]
        }
      ]
    }
  ]
}