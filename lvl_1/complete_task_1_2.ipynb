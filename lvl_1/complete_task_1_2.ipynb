{
  "nbformat": 4,
  "nbformat_minor": 0,
  "metadata": {
    "colab": {
      "provenance": [],
      "authorship_tag": "ABX9TyPTxY0uKTVQ5mOe8cQ8d2A0",
      "include_colab_link": true
    },
    "kernelspec": {
      "name": "python3",
      "display_name": "Python 3"
    },
    "language_info": {
      "name": "python"
    }
  },
  "cells": [
    {
      "cell_type": "markdown",
      "metadata": {
        "id": "view-in-github",
        "colab_type": "text"
      },
      "source": [
        "<a href=\"https://colab.research.google.com/github/novikovaai/project_01/blob/main/lvl_1/complete_task_1_2.ipynb\" target=\"_parent\"><img src=\"https://colab.research.google.com/assets/colab-badge.svg\" alt=\"Open In Colab\"/></a>"
      ]
    },
    {
      "cell_type": "code",
      "execution_count": 60,
      "metadata": {
        "id": "R9vJNJTMSQaE"
      },
      "outputs": [],
      "source": [
        "# Задача 1.2.\n",
        "\n",
        "# Пункт A.\n",
        "# Приведем плейлист песен в виде списка списков\n",
        "# Список my_favorite_songs содержит список названий и длительности каждого трека\n",
        "# Выведите общее время звучания трех случайных песен в формате\n",
        "# Три песни звучат ХХХ минут\n",
        "\n",
        "my_favorite_songs = [\n",
        "    ['Waste a Moment', 3.03],\n",
        "    ['New Salvation', 4.02],\n",
        "    ['Staying\\' Alive', 3.40],\n",
        "    ['Out of Touch', 3.03],\n",
        "    ['A Sorta Fairytale', 5.28],\n",
        "    ['Easy', 4.15],\n",
        "    ['Beautiful Day', 4.04],\n",
        "    ['Nowhere to Run', 2.58],\n",
        "    ['In This World', 4.02],\n",
        "]\n",
        "\n",
        "# Пункт B.\n",
        "# Есть словарь песен\n",
        "# Распечатайте общее время звучания трех случайных песен\n",
        "# Вывод: Три песни звучат ХХХ минут.\n",
        "\n",
        "my_favorite_songs_dict = {\n",
        "    'Waste a Moment': 3.03,\n",
        "    'New Salvation': 4.02,\n",
        "    'Staying\\' Alive': 3.40,\n",
        "    'Out of Touch': 3.03,\n",
        "    'A Sorta Fairytale': 5.28,\n",
        "    'Easy': 4.15,\n",
        "    'Beautiful Day': 4.04,\n",
        "    'Nowhere to Run': 2.58,\n",
        "    'In This World': 4.02,\n",
        "}\n",
        "\n",
        "# Дополнительно для пунктов A и B\n",
        "# Пункт C.\n",
        "# Сгенерируйте случайные песни с помощью модуля random\n",
        "# import random\n",
        "\n",
        "# Дополнительно\n",
        "# Пункт D.\n",
        "# Переведите минуты и секунды в формат времени. Используйте модуль datetime"
      ]
    },
    {
      "cell_type": "code",
      "source": [
        "#Пункт А\n",
        "#Список времени звучания трех случайных песен из списка my_favorite_songs\n",
        "three_songs = [my_favorite_songs[1][1], my_favorite_songs[3][1], my_favorite_songs[5][1]]\n",
        "#Перевод времени звучания песен из списка в секунды\n",
        "three_songs_sec = sum([(int(time) * 60 + round(time * 100) % 100) for time in three_songs])\n",
        "#Вывод общего времени звучания трех песен в минутах\n",
        "print(f'Три песни звучат {three_songs_sec // 60}.{three_songs_sec % 60} минут.')"
      ],
      "metadata": {
        "colab": {
          "base_uri": "https://localhost:8080/"
        },
        "id": "icjqNfSLDGbj",
        "outputId": "7caad4c9-f00e-425a-e878-9c7932bbd01e"
      },
      "execution_count": 55,
      "outputs": [
        {
          "output_type": "stream",
          "name": "stdout",
          "text": [
            "Три песни звучат 11.20 минут.\n"
          ]
        }
      ]
    },
    {
      "cell_type": "code",
      "source": [
        "#Пункт B\n",
        "#Список времени звучания трех случайных песен из словаря my_favorite_songs_dict\n",
        "three_songs_dict = [my_favorite_songs_dict['Staying\\' Alive'], my_favorite_songs_dict['Easy'], my_favorite_songs_dict['Nowhere to Run']]\n",
        "#Перевод времени звучания песен из списка в секунды\n",
        "three_songs__dict_sec= sum([(int(time) * 60 + round(time * 100) % 100) for time in three_songs_dict])\n",
        "#Вывод общего времени звучания трех песен в минутах\n",
        "print(f'Три песни звучат {three_songs__dict_sec // 60}.{three_songs__dict_sec % 60} минут.')"
      ],
      "metadata": {
        "colab": {
          "base_uri": "https://localhost:8080/"
        },
        "id": "Vr-5wXMue_OP",
        "outputId": "b32b49b8-5ae9-469a-82e4-ed5f84a2a28d"
      },
      "execution_count": 57,
      "outputs": [
        {
          "output_type": "stream",
          "name": "stdout",
          "text": [
            "Три песни звучат 10.53 минут.\n"
          ]
        }
      ]
    },
    {
      "cell_type": "code",
      "source": [
        "#Пункт C\n",
        "#импорт модуля random\n",
        "import random\n",
        "#Три случайные песни из списка в виде списка\n",
        "random_songs = [my_favorite_songs[random.randint(0, len(my_favorite_songs)-1)] for _ in range(3)]\n",
        "#Три случайные песни из словаря в виде словаря\n",
        "random_songs_dict = dict(random.sample(sorted(my_favorite_songs_dict.items()), 3))\n",
        "#Вывод\n",
        "print(random_songs)\n",
        "print(random_songs_dict)\n"
      ],
      "metadata": {
        "colab": {
          "base_uri": "https://localhost:8080/"
        },
        "id": "RFR-ed7jfmAD",
        "outputId": "c4d60693-4893-495e-cbf9-db8dbc8a3977"
      },
      "execution_count": 75,
      "outputs": [
        {
          "output_type": "stream",
          "name": "stdout",
          "text": [
            "[['Waste a Moment', 3.03], ['Nowhere to Run', 2.58], ['Nowhere to Run', 2.58]]\n",
            "{'A Sorta Fairytale': 5.28, 'New Salvation': 4.02, 'Easy': 4.15}\n"
          ]
        }
      ]
    },
    {
      "cell_type": "code",
      "source": [
        "#Пункт D\n",
        "#импорт модуля datetime\n",
        "import datetime\n",
        "#Перевод длительности песен из списка в формат времени построчно\n",
        "for song in my_favorite_songs:\n",
        "  temp = datetime.datetime.strptime(str(song[1]), '%M.%S')\n",
        "  song[1] = f'{temp.time()}'\n",
        "#Перевод длительности песен из словаря в формат времени построчно\n",
        "for song in my_favorite_songs_dict.keys():\n",
        "  temp = datetime.datetime.strptime(str(my_favorite_songs_dict[song]), '%M.%S')\n",
        "  my_favorite_songs_dict[song] = f'{temp.time()}'\n",
        "#Вывод\n",
        "print(my_favorite_songs)\n",
        "print(my_favorite_songs_dict)"
      ],
      "metadata": {
        "colab": {
          "base_uri": "https://localhost:8080/"
        },
        "id": "CKh-u-f7h1rD",
        "outputId": "3c5368e7-f6df-4071-e7d5-e2b5bb087668"
      },
      "execution_count": 76,
      "outputs": [
        {
          "output_type": "stream",
          "name": "stdout",
          "text": [
            "[['Waste a Moment', '00:03:03'], ['New Salvation', '00:04:02'], [\"Staying' Alive\", '00:03:04'], ['Out of Touch', '00:03:03'], ['A Sorta Fairytale', '00:05:28'], ['Easy', '00:04:15'], ['Beautiful Day', '00:04:04'], ['Nowhere to Run', '00:02:58'], ['In This World', '00:04:02']]\n",
            "{'Waste a Moment': '00:03:03', 'New Salvation': '00:04:02', \"Staying' Alive\": '00:03:04', 'Out of Touch': '00:03:03', 'A Sorta Fairytale': '00:05:28', 'Easy': '00:04:15', 'Beautiful Day': '00:04:04', 'Nowhere to Run': '00:02:58', 'In This World': '00:04:02'}\n"
          ]
        }
      ]
    },
    {
      "cell_type": "code",
      "source": [],
      "metadata": {
        "id": "67eC1qNTdy4g"
      },
      "execution_count": null,
      "outputs": []
    }
  ]
}